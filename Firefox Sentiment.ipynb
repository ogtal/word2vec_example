{
 "cells": [
  {
   "cell_type": "code",
<<<<<<< HEAD
   "execution_count": null,
=======
   "execution_count": 1,
>>>>>>> 94ec00ffe416d9f744d9dff1c4420b293cbe2f79
   "metadata": {},
   "outputs": [],
   "source": [
    "from gensim.models import KeyedVectors\n",
    "from sklearn import svm\n",
    "from sklearn.feature_extraction.text import CountVectorizer, TfidfVectorizer\n",
    "from sklearn.neural_network import MLPClassifier\n",
    "import numpy as np\n",
    "\n",
    "import warnings\n",
    "warnings.filterwarnings('ignore')\n",
    "\n",
    "count_vectorizer = CountVectorizer()\n",
    "tfidf_vectorizer = TfidfVectorizer()"
   ]
  },
  {
   "cell_type": "markdown",
   "metadata": {},
   "source": [
    "# Sentiment classifier - data "
   ]
  },
  {
   "cell_type": "code",
<<<<<<< HEAD
   "execution_count": null,
=======
   "execution_count": 2,
>>>>>>> 94ec00ffe416d9f744d9dff1c4420b293cbe2f79
   "metadata": {},
   "outputs": [],
   "source": [
    "corpus = [\n",
    "    # Træning\n",
    "    'Firefox er fantastisk',\n",
    "    'Firefox: en god browser!',\n",
    "    'Firefox er helt fantastisk',\n",
    "    'Firefox er en dårlig browser',\n",
    "    'Firefox er verdens dårligste browser',\n",
    "    'Jeg vil ikke bruge Firefox fremover',\n",
    "    # Manuel Test\n",
    "    'Firefox er aldeles god',\n",
    "    'Firefox er mega dårlig',\n",
    "    'Jeg er en Firefox fan'\n",
    "]\n",
    "y_train = [\n",
    "    1,\n",
    "    1,\n",
    "    1,\n",
    "    0,\n",
    "    0,\n",
    "    0,\n",
    "]"
   ]
  },
  {
   "cell_type": "markdown",
   "metadata": {},
   "source": [
    "## Exempel 1: Count vectorizer"
   ]
  },
  {
   "cell_type": "code",
<<<<<<< HEAD
   "execution_count": null,
=======
   "execution_count": 3,
>>>>>>> 94ec00ffe416d9f744d9dff1c4420b293cbe2f79
   "metadata": {},
   "outputs": [],
   "source": [
    "X_count = count_vectorizer.fit_transform(corpus)"
   ]
  },
  {
   "cell_type": "code",
<<<<<<< HEAD
   "execution_count": null,
   "metadata": {},
   "outputs": [],
=======
   "execution_count": 23,
   "metadata": {},
   "outputs": [
    {
     "name": "stdout",
     "output_type": "stream",
     "text": [
      "Firefox er fantastisk\n",
      "\n",
      "['aldeles', 'browser', 'bruge', 'dårlig', 'dårligste', 'en', 'er', 'fan', 'fantastisk', 'firefox', 'fremover', 'god', 'helt', 'ikke', 'jeg', 'mega', 'verdens', 'vil']\n",
      "[0 0 0 0 0 0 1 0 1 1 0 0 0 0 0 0 0 0]\n"
     ]
    }
   ],
>>>>>>> 94ec00ffe416d9f744d9dff1c4420b293cbe2f79
   "source": [
    "print(corpus[0])\n",
    "print()\n",
    "print(count_vectorizer.get_feature_names())\n",
    "print(X_count.toarray()[0])"
   ]
  },
  {
   "cell_type": "code",
<<<<<<< HEAD
   "execution_count": null,
   "metadata": {},
   "outputs": [],
=======
   "execution_count": 19,
   "metadata": {},
   "outputs": [
    {
     "data": {
      "text/plain": [
       "MLPClassifier(activation='relu', alpha=0.0001, batch_size='auto', beta_1=0.9,\n",
       "       beta_2=0.999, early_stopping=False, epsilon=1e-08,\n",
       "       hidden_layer_sizes=(100,), learning_rate='constant',\n",
       "       learning_rate_init=0.001, max_iter=200, momentum=0.9,\n",
       "       n_iter_no_change=10, nesterovs_momentum=True, power_t=0.5,\n",
       "       random_state=None, shuffle=True, solver='adam', tol=0.0001,\n",
       "       validation_fraction=0.1, verbose=False, warm_start=False)"
      ]
     },
     "execution_count": 19,
     "metadata": {},
     "output_type": "execute_result"
    }
   ],
>>>>>>> 94ec00ffe416d9f744d9dff1c4420b293cbe2f79
   "source": [
    "clf = MLPClassifier()\n",
    "clf.fit(X_count[0:6], y_train)"
   ]
  },
  {
   "cell_type": "code",
<<<<<<< HEAD
   "execution_count": null,
=======
   "execution_count": 20,
>>>>>>> 94ec00ffe416d9f744d9dff1c4420b293cbe2f79
   "metadata": {},
   "outputs": [],
   "source": [
    "for i in range(6,9):\n",
    "    print(corpus[i], clf.predict(X_count[i]))"
   ]
  },
  {
   "cell_type": "markdown",
   "metadata": {},
   "source": [
    "## Exempel 2: Tf-idf vectorizer"
   ]
  },
  {
   "cell_type": "code",
<<<<<<< HEAD
   "execution_count": null,
=======
   "execution_count": 22,
>>>>>>> 94ec00ffe416d9f744d9dff1c4420b293cbe2f79
   "metadata": {},
   "outputs": [],
   "source": [
    "X_tfidf = tfidf_vectorizer.fit_transform(corpus)"
   ]
  },
  {
   "cell_type": "code",
<<<<<<< HEAD
   "execution_count": null,
   "metadata": {},
   "outputs": [],
=======
   "execution_count": 24,
   "metadata": {},
   "outputs": [
    {
     "name": "stdout",
     "output_type": "stream",
     "text": [
      "Firefox er fantastisk\n",
      "\n",
      "['aldeles', 'browser', 'bruge', 'dårlig', 'dårligste', 'en', 'er', 'fan', 'fantastisk', 'firefox', 'fremover', 'god', 'helt', 'ikke', 'jeg', 'mega', 'verdens', 'vil']\n",
      "[0.         0.         0.         0.         0.         0.\n",
      " 0.45105358 0.         0.81274991 0.36876585 0.         0.\n",
      " 0.         0.         0.         0.         0.         0.        ]\n"
     ]
    }
   ],
>>>>>>> 94ec00ffe416d9f744d9dff1c4420b293cbe2f79
   "source": [
    "print(corpus[0])\n",
    "print()\n",
    "print(tfidf_vectorizer.get_feature_names())\n",
    "print(X_tfidf.toarray()[0])"
   ]
  },
  {
   "cell_type": "code",
<<<<<<< HEAD
   "execution_count": null,
   "metadata": {},
   "outputs": [],
=======
   "execution_count": 25,
   "metadata": {},
   "outputs": [
    {
     "data": {
      "text/plain": [
       "MLPClassifier(activation='relu', alpha=0.0001, batch_size='auto', beta_1=0.9,\n",
       "       beta_2=0.999, early_stopping=False, epsilon=1e-08,\n",
       "       hidden_layer_sizes=(100,), learning_rate='constant',\n",
       "       learning_rate_init=0.001, max_iter=200, momentum=0.9,\n",
       "       n_iter_no_change=10, nesterovs_momentum=True, power_t=0.5,\n",
       "       random_state=None, shuffle=True, solver='adam', tol=0.0001,\n",
       "       validation_fraction=0.1, verbose=False, warm_start=False)"
      ]
     },
     "execution_count": 25,
     "metadata": {},
     "output_type": "execute_result"
    }
   ],
>>>>>>> 94ec00ffe416d9f744d9dff1c4420b293cbe2f79
   "source": [
    "clf = MLPClassifier()\n",
    "clf.fit(X_tfidf[0:6], y_train)"
   ]
  },
  {
   "cell_type": "code",
<<<<<<< HEAD
   "execution_count": null,
=======
   "execution_count": 26,
>>>>>>> 94ec00ffe416d9f744d9dff1c4420b293cbe2f79
   "metadata": {},
   "outputs": [],
   "source": [
    "for i in range(6,9):\n",
    "    print(corpus[i], clf.predict(X_tfidf[i]))"
   ]
  },
  {
   "cell_type": "markdown",
   "metadata": {},
   "source": [
    "## Exempel 3: Word2vec vectorizer"
   ]
  },
  {
   "cell_type": "code",
   "execution_count": null,
   "metadata": {},
   "outputs": [],
   "source": [
    "da_model = KeyedVectors.load_word2vec_format('wiki.da.vec')"
   ]
  },
  {
   "cell_type": "code",
   "execution_count": null,
   "metadata": {},
   "outputs": [],
   "source": [
    "X_word2vec = []\n",
    "\n",
    "for line in corpus:\n",
    "    linevec = np.mean([da_model[word] for word in line.split(' ') if word in da_model], axis=0)\n",
    "    X_word2vec.append(linevec)\n",
    "        "
   ]
  },
  {
   "cell_type": "code",
   "execution_count": null,
   "metadata": {},
   "outputs": [],
   "source": [
    "X_word2vec[0]"
   ]
  },
  {
   "cell_type": "code",
   "execution_count": null,
   "metadata": {},
   "outputs": [],
   "source": [
    "clf = MLPClassifier()\n",
    "clf.fit(X_word2vec[0:6], y_train)"
   ]
  },
  {
   "cell_type": "code",
   "execution_count": null,
   "metadata": {},
   "outputs": [],
   "source": [
    "for i in range(6,9):\n",
    "    print(corpus[i], clf.predict(X_word2vec[i].reshape(1,-1)))"
   ]
  }
 ],
 "metadata": {
  "kernelspec": {
   "display_name": "Python 3",
   "language": "python",
   "name": "python3"
  },
  "language_info": {
   "codemirror_mode": {
    "name": "ipython",
    "version": 3
   },
   "file_extension": ".py",
   "mimetype": "text/x-python",
   "name": "python",
   "nbconvert_exporter": "python",
   "pygments_lexer": "ipython3",
   "version": "3.7.1"
  }
 },
 "nbformat": 4,
 "nbformat_minor": 2
}
