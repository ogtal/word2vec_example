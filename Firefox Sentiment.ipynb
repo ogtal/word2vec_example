{
 "cells": [
  {
   "cell_type": "code",
   "execution_count": 165,
   "metadata": {},
   "outputs": [],
   "source": [
    "from gensim.models import KeyedVectors\n",
    "from sklearn import svm\n",
    "from sklearn.feature_extraction.text import CountVectorizer, TfidfVectorizer\n",
    "from sklearn.neural_network import MLPClassifier\n",
    "import numpy as np\n",
    "\n",
    "count_vectorizer = CountVectorizer()\n",
    "tfidf_vectorizer = TfidfVectorizer()"
   ]
  },
  {
   "cell_type": "markdown",
   "metadata": {},
   "source": [
    "# Sentiment classifier - data "
   ]
  },
  {
   "cell_type": "code",
   "execution_count": 166,
   "metadata": {},
   "outputs": [],
   "source": [
    "corpus = [\n",
    "    # Træning\n",
    "    'Firefox er fantastisk',\n",
    "    'Firefox: en god browser!',\n",
    "    'Firefox er helt fantastisk',\n",
    "    'Firefox er en dårlig browser',\n",
    "    'Firefox er verdens dårligste browser',\n",
    "    'Jeg vil ikke bruge Firefox fremover',\n",
    "    # Manuel Test\n",
    "    'Firefox er aldeles god',\n",
    "    'Firefox er mega dårlig',\n",
    "    'Jeg er en Firefox fan'\n",
    "]\n",
    "y_train = [\n",
    "    1,\n",
    "    1,\n",
    "    1,\n",
    "    0,\n",
    "    0,\n",
    "    0,\n",
    "]"
   ]
  },
  {
   "cell_type": "markdown",
   "metadata": {},
   "source": [
    "## Exempel 1: Count vectorizer"
   ]
  },
  {
   "cell_type": "code",
   "execution_count": 167,
   "metadata": {},
   "outputs": [],
   "source": [
    "X_count = count_vectorizer.fit_transform(corpus)"
   ]
  },
  {
   "cell_type": "code",
   "execution_count": 168,
   "metadata": {},
   "outputs": [
    {
     "name": "stdout",
     "output_type": "stream",
     "text": [
      "['aldeles', 'browser', 'bruge', 'dårlig', 'dårligste', 'en', 'er', 'fan', 'fantastisk', 'firefox', 'fremover', 'god', 'helt', 'ikke', 'jeg', 'mega', 'verdens', 'vil']\n"
     ]
    },
    {
     "data": {
      "text/plain": [
       "array([0, 0, 0, 0, 0, 0, 1, 0, 1, 1, 0, 0, 0, 0, 0, 0, 0, 0], dtype=int64)"
      ]
     },
     "execution_count": 168,
     "metadata": {},
     "output_type": "execute_result"
    }
   ],
   "source": [
    "print(count_vectorizer.get_feature_names())\n",
    "X_count.toarray()[0]"
   ]
  },
  {
   "cell_type": "code",
   "execution_count": 169,
   "metadata": {},
   "outputs": [
    {
     "name": "stderr",
     "output_type": "stream",
     "text": [
      "/home/edo/.local/share/virtualenvs/word2vec_example-bzjfMOsV/lib/python3.6/site-packages/sklearn/neural_network/multilayer_perceptron.py:562: ConvergenceWarning: Stochastic Optimizer: Maximum iterations (200) reached and the optimization hasn't converged yet.\n",
      "  % self.max_iter, ConvergenceWarning)\n"
     ]
    },
    {
     "data": {
      "text/plain": [
       "MLPClassifier(activation='relu', alpha=0.0001, batch_size='auto', beta_1=0.9,\n",
       "       beta_2=0.999, early_stopping=False, epsilon=1e-08,\n",
       "       hidden_layer_sizes=(100,), learning_rate='constant',\n",
       "       learning_rate_init=0.001, max_iter=200, momentum=0.9,\n",
       "       n_iter_no_change=10, nesterovs_momentum=True, power_t=0.5,\n",
       "       random_state=None, shuffle=True, solver='adam', tol=0.0001,\n",
       "       validation_fraction=0.1, verbose=False, warm_start=False)"
      ]
     },
     "execution_count": 169,
     "metadata": {},
     "output_type": "execute_result"
    }
   ],
   "source": [
    "clf = MLPClassifier()\n",
    "clf.fit(X[0:6], y_train)"
   ]
  },
  {
   "cell_type": "code",
   "execution_count": 170,
   "metadata": {},
   "outputs": [
    {
     "name": "stdout",
     "output_type": "stream",
     "text": [
      "Firefox er aldeles god [1]\n",
      "Firefox er mega dårlig [0]\n",
      "Jeg er en Firefox fan [0]\n"
     ]
    }
   ],
   "source": [
    "for i in range(6,9):\n",
    "    print(corpus[i], clf.predict(X_count[i]))"
   ]
  },
  {
   "cell_type": "markdown",
   "metadata": {},
   "source": [
    "## Exempel 2: Tf-idf vectorizer"
   ]
  },
  {
   "cell_type": "code",
   "execution_count": 171,
   "metadata": {},
   "outputs": [],
   "source": [
    "X_tfidf = vectorizer.fit_transform(corpus)"
   ]
  },
  {
   "cell_type": "code",
   "execution_count": 172,
   "metadata": {},
   "outputs": [
    {
     "name": "stdout",
     "output_type": "stream",
     "text": [
      "['aldeles', 'browser', 'bruge', 'dårlig', 'dårligste', 'en', 'er', 'fan', 'fantastisk', 'firefox', 'fremover', 'god', 'helt', 'ikke', 'jeg', 'mega', 'verdens', 'vil']\n"
     ]
    },
    {
     "data": {
      "text/plain": [
       "array([0.        , 0.        , 0.        , 0.        , 0.        ,\n",
       "       0.        , 0.45105358, 0.        , 0.81274991, 0.36876585,\n",
       "       0.        , 0.        , 0.        , 0.        , 0.        ,\n",
       "       0.        , 0.        , 0.        ])"
      ]
     },
     "execution_count": 172,
     "metadata": {},
     "output_type": "execute_result"
    }
   ],
   "source": [
    "print(vectorizer.get_feature_names())\n",
    "X_tfidf.toarray()[0]"
   ]
  },
  {
   "cell_type": "code",
   "execution_count": 173,
   "metadata": {},
   "outputs": [
    {
     "name": "stderr",
     "output_type": "stream",
     "text": [
      "/home/edo/.local/share/virtualenvs/word2vec_example-bzjfMOsV/lib/python3.6/site-packages/sklearn/neural_network/multilayer_perceptron.py:562: ConvergenceWarning: Stochastic Optimizer: Maximum iterations (200) reached and the optimization hasn't converged yet.\n",
      "  % self.max_iter, ConvergenceWarning)\n"
     ]
    },
    {
     "data": {
      "text/plain": [
       "MLPClassifier(activation='relu', alpha=0.0001, batch_size='auto', beta_1=0.9,\n",
       "       beta_2=0.999, early_stopping=False, epsilon=1e-08,\n",
       "       hidden_layer_sizes=(100,), learning_rate='constant',\n",
       "       learning_rate_init=0.001, max_iter=200, momentum=0.9,\n",
       "       n_iter_no_change=10, nesterovs_momentum=True, power_t=0.5,\n",
       "       random_state=None, shuffle=True, solver='adam', tol=0.0001,\n",
       "       validation_fraction=0.1, verbose=False, warm_start=False)"
      ]
     },
     "execution_count": 173,
     "metadata": {},
     "output_type": "execute_result"
    }
   ],
   "source": [
    "clf = MLPClassifier()\n",
    "clf.fit(X_tfidf[0:6], y_train)"
   ]
  },
  {
   "cell_type": "code",
   "execution_count": 174,
   "metadata": {},
   "outputs": [
    {
     "name": "stdout",
     "output_type": "stream",
     "text": [
      "Firefox er aldeles god [1]\n",
      "Firefox er mega dårlig [0]\n",
      "Jeg er en Firefox fan [0]\n"
     ]
    }
   ],
   "source": [
    "for i in range(6,9):\n",
    "    print(corpus[i], clf.predict(X_tfidf[i]))"
   ]
  },
  {
   "cell_type": "markdown",
   "metadata": {},
   "source": [
    "## Exempel 3: Word2vec vectorizer"
   ]
  },
  {
   "cell_type": "code",
   "execution_count": 175,
   "metadata": {},
   "outputs": [],
   "source": [
    "da_model = KeyedVectors.load_word2vec_format('wiki.da.vec')"
   ]
  },
  {
   "cell_type": "code",
   "execution_count": 176,
   "metadata": {},
   "outputs": [],
   "source": [
    "X_word2vec = []\n",
    "\n",
    "for line in corpus:\n",
    "    linevec = np.mean([da_model[word] for word in line.split(' ') if word in da_model], axis=0)\n",
    "    X_word2vec.append(linevec)\n",
    "        "
   ]
  },
  {
   "cell_type": "code",
   "execution_count": 177,
   "metadata": {},
   "outputs": [
    {
     "data": {
      "text/plain": [
       "array([-3.08735013e-01, -7.25400001e-02, -8.39378461e-02,  4.52099927e-03,\n",
       "       -2.31219977e-01, -5.64030036e-02, -2.98079997e-01,  1.69962998e-02,\n",
       "        1.60550028e-02, -3.46094966e-02,  1.83789998e-01,  2.31804997e-01,\n",
       "        1.61355004e-01,  1.63069993e-01,  1.11123502e-01,  1.61659978e-02,\n",
       "        3.02764997e-02,  2.44269997e-01, -2.70865001e-02,  2.43214995e-01,\n",
       "       -1.01605006e-01,  1.48843005e-01, -6.06140010e-02, -1.12481996e-01,\n",
       "       -1.27221003e-01, -7.65419975e-02, -1.76624998e-01, -1.05234504e-01,\n",
       "       -3.11760008e-01,  1.41272500e-01, -1.77239999e-01, -1.60480708e-01,\n",
       "        6.12603500e-02,  2.10948497e-01, -6.74699992e-02,  8.85615498e-02,\n",
       "        1.52541012e-01,  7.38050044e-02,  1.13879003e-01, -1.00872047e-01,\n",
       "       -3.31084989e-02,  1.60662502e-01,  2.14050002e-02, -2.42480002e-02,\n",
       "       -8.79020020e-02,  6.10705018e-02,  3.17800015e-01,  2.58929998e-01,\n",
       "       -1.10495001e-01, -3.50109994e-01, -1.19749501e-01, -1.33529991e-01,\n",
       "        1.36190001e-02, -1.07913002e-01,  6.82365000e-02,  3.92060019e-02,\n",
       "        1.53434992e-01,  1.23590499e-01,  1.00254994e-02,  1.50639996e-01,\n",
       "        4.45600003e-02,  2.49705002e-01,  1.01054996e-01,  1.24869496e-01,\n",
       "        1.08798996e-01, -4.78750020e-02,  5.23565002e-02,  8.34086984e-02,\n",
       "       -1.94729999e-01,  9.91339982e-02,  1.35325007e-02, -8.58599879e-03,\n",
       "       -1.73837498e-01, -1.27216995e-01,  5.88399991e-02,  8.50315988e-02,\n",
       "        1.06068000e-01, -4.00265008e-02, -7.11100027e-02, -2.10690014e-02,\n",
       "       -1.46653995e-01,  2.58037508e-01, -1.77000090e-03, -9.85319912e-02,\n",
       "        1.24595001e-01, -6.65929988e-02,  7.02200038e-03,  1.62474498e-01,\n",
       "       -1.25124991e-01,  1.91039994e-01,  4.57349978e-02,  8.29644948e-02,\n",
       "        2.55355000e-01,  6.51349947e-02, -6.53599948e-02,  8.69040042e-02,\n",
       "       -2.34060004e-01,  7.42080063e-02,  2.26765499e-01, -6.67634979e-02,\n",
       "        7.61000067e-03,  6.21025003e-02, -5.28474972e-02,  2.09582493e-01,\n",
       "       -3.46583992e-01, -5.80880009e-02, -1.43680006e-01,  5.05539998e-02,\n",
       "        3.50324988e-01, -4.61449996e-02, -1.98253497e-01, -2.26985008e-01,\n",
       "        7.98709989e-02, -2.47997999e-01, -2.38149986e-02,  1.35769993e-01,\n",
       "       -1.65249929e-02,  1.35879010e-01, -1.46723002e-01, -9.49074998e-02,\n",
       "        8.61929953e-02,  3.07559997e-01, -4.33724999e-01, -1.32645011e-01,\n",
       "       -3.27500701e-03, -3.41760010e-01,  4.39065024e-02, -1.77320004e-01,\n",
       "        8.76138955e-02,  1.07051499e-01,  3.63530010e-01,  1.02372497e-01,\n",
       "       -1.93242490e-01, -2.89975017e-01, -1.42935991e-01, -3.31749976e-01,\n",
       "        1.29825503e-01,  1.37154996e-01, -7.86719993e-02,  8.65999609e-03,\n",
       "       -1.91149995e-01,  2.39885002e-01,  2.37650007e-01, -4.59639989e-02,\n",
       "        1.27495006e-01, -1.88385006e-02,  3.44370008e-01, -1.26065001e-01,\n",
       "       -1.20899975e-02,  2.26419978e-02,  3.61795016e-02,  1.58826500e-01,\n",
       "        1.73308000e-01,  6.46194965e-02, -1.55755997e-01,  1.21999979e-02,\n",
       "        6.27560019e-02, -1.95329994e-01, -1.79291498e-02, -5.73104993e-02,\n",
       "        6.09299988e-02,  5.74998558e-05, -8.40350017e-02,  1.56165004e-01,\n",
       "        3.47215012e-02, -1.94185004e-01,  1.54376000e-01, -5.64705022e-02,\n",
       "        2.22549960e-03, -9.89490002e-02,  4.30314988e-02, -3.26384977e-02,\n",
       "       -2.00499780e-04,  2.78824985e-01,  5.98395020e-02, -8.84484947e-02,\n",
       "        9.31463018e-02,  7.40939975e-02,  4.51369993e-02, -9.59650055e-02,\n",
       "        4.33775000e-02,  2.62449998e-02, -1.51201501e-01, -2.31034979e-02,\n",
       "       -1.55030012e-01, -5.51315993e-02, -4.14549932e-03, -3.12009975e-02,\n",
       "        2.98570007e-01, -3.35310996e-01, -4.64820005e-02, -3.28994989e-01,\n",
       "        4.70860004e-01,  1.82049982e-02, -2.42428005e-01,  5.88595010e-02,\n",
       "       -1.50703996e-01, -5.30450009e-02,  1.27807006e-01, -6.44875020e-02,\n",
       "        2.41591990e-01,  1.31512493e-01, -3.40184987e-01,  1.38557494e-01,\n",
       "       -5.22699952e-02, -2.40135014e-01,  4.59850058e-02,  3.45520005e-02,\n",
       "       -2.25944996e-01,  2.65197493e-02, -1.45274997e-01,  1.91695005e-01,\n",
       "        3.13189983e-01,  1.62560008e-02,  2.21200004e-01, -2.77450010e-02,\n",
       "        2.51355499e-01,  1.92950010e-01, -4.79044989e-02,  3.50414991e-01,\n",
       "       -4.70075011e-02, -3.60964984e-02,  2.90540010e-01,  2.11620003e-01,\n",
       "       -2.89648511e-02,  1.42563999e-01, -9.73499380e-04, -1.70875505e-01,\n",
       "        3.71950045e-02, -3.11159998e-01, -4.72650006e-02,  7.41504952e-02,\n",
       "       -2.66315013e-01, -7.22045004e-02,  5.39700016e-02, -1.78561494e-01,\n",
       "       -2.14419998e-02, -5.61849996e-02, -6.75574988e-02, -2.05245003e-01,\n",
       "        1.82496503e-01, -7.86300004e-03, -1.65509999e-01,  1.60410002e-01,\n",
       "        3.01230013e-01, -4.30635028e-02,  2.54958987e-01,  1.63800083e-03,\n",
       "        2.07350016e-01,  1.47741497e-01,  1.02156952e-01,  1.33570507e-01,\n",
       "        1.21508002e-01, -1.81255013e-01, -1.44567996e-01,  2.82182004e-02,\n",
       "       -1.59000047e-04,  8.81569982e-02,  1.10064000e-01,  2.99189985e-01,\n",
       "       -9.83267948e-02, -2.69690007e-01,  1.46051496e-01, -1.12263501e-01,\n",
       "       -9.29999724e-03,  7.73184001e-02, -1.82444990e-01, -1.72975004e-01,\n",
       "        3.42813991e-02,  1.30844042e-01,  2.47014999e-01, -1.88799948e-03,\n",
       "       -5.84334992e-02,  1.02476999e-01, -1.70488507e-02,  2.65765011e-01,\n",
       "       -2.27205485e-01,  3.48059982e-01,  2.75185019e-01, -3.14549983e-01,\n",
       "        2.89949998e-02,  9.50530022e-02, -1.29624978e-02, -3.38259995e-01,\n",
       "       -1.33906007e-01,  1.36160001e-01,  5.76564968e-02, -2.90385008e-01,\n",
       "        3.57000157e-03,  7.75135010e-02, -2.35664994e-01, -1.14426501e-01,\n",
       "        2.73820013e-01, -1.14594497e-01, -1.88324988e-01,  2.41005003e-01,\n",
       "        6.34419993e-02, -1.82204992e-01, -6.19185008e-02,  1.26693502e-01],\n",
       "      dtype=float32)"
      ]
     },
     "execution_count": 177,
     "metadata": {},
     "output_type": "execute_result"
    }
   ],
   "source": [
    "X_word2vec[0]"
   ]
  },
  {
   "cell_type": "code",
   "execution_count": 178,
   "metadata": {},
   "outputs": [
    {
     "data": {
      "text/plain": [
       "MLPClassifier(activation='relu', alpha=0.0001, batch_size='auto', beta_1=0.9,\n",
       "       beta_2=0.999, early_stopping=False, epsilon=1e-08,\n",
       "       hidden_layer_sizes=(100,), learning_rate='constant',\n",
       "       learning_rate_init=0.001, max_iter=200, momentum=0.9,\n",
       "       n_iter_no_change=10, nesterovs_momentum=True, power_t=0.5,\n",
       "       random_state=None, shuffle=True, solver='adam', tol=0.0001,\n",
       "       validation_fraction=0.1, verbose=False, warm_start=False)"
      ]
     },
     "execution_count": 178,
     "metadata": {},
     "output_type": "execute_result"
    }
   ],
   "source": [
    "clf = MLPClassifier()\n",
    "clf.fit(X_word2vec[0:6], y_train)"
   ]
  },
  {
   "cell_type": "code",
   "execution_count": 179,
   "metadata": {},
   "outputs": [
    {
     "name": "stdout",
     "output_type": "stream",
     "text": [
      "Firefox er aldeles god [1]\n",
      "Firefox er mega dårlig [0]\n",
      "Jeg er en Firefox fan [1]\n"
     ]
    }
   ],
   "source": [
    "for i in range(6,9):\n",
    "    print(corpus[i], clf.predict(X_word2vec[i].reshape(1,-1)))"
   ]
  }
 ],
 "metadata": {
  "kernelspec": {
   "display_name": "Python 3",
   "language": "python",
   "name": "python3"
  },
  "language_info": {
   "codemirror_mode": {
    "name": "ipython",
    "version": 3
   },
   "file_extension": ".py",
   "mimetype": "text/x-python",
   "name": "python",
   "nbconvert_exporter": "python",
   "pygments_lexer": "ipython3",
   "version": "3.6.7"
  }
 },
 "nbformat": 4,
 "nbformat_minor": 2
}
