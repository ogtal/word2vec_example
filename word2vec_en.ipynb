{
 "cells": [
  {
   "cell_type": "code",
   "execution_count": 1,
   "metadata": {},
   "outputs": [],
   "source": [
    "from gensim.models import KeyedVectors\n",
    "import warnings\n",
    "warnings.filterwarnings('ignore')"
   ]
  },
  {
   "cell_type": "code",
   "execution_count": 2,
   "metadata": {},
   "outputs": [],
   "source": [
    "en_model = KeyedVectors.load_word2vec_format('wiki.en.vec')"
   ]
  },
  {
   "cell_type": "code",
   "execution_count": 3,
   "metadata": {},
   "outputs": [
    {
     "name": "stdout",
     "output_type": "stream",
     "text": [
      "[('leopards', 0.8087987899780273), ('tiger', 0.690111517906189), ('cheetah', 0.6799707412719727), ('panther', 0.6436957716941833), ('lion', 0.6410101056098938), ('Leopard', 0.6289783716201782), ('tigress', 0.6153026819229126), ('tigers', 0.6085104942321777), ('puma', 0.6044009923934937), ('leopard-like', 0.5997351408004761)]\n"
     ]
    }
   ],
   "source": [
    "result = en_model.most_similar(positive=['leopard'], topn=10)\n",
    "print(result)"
   ]
  },
  {
   "cell_type": "code",
   "execution_count": 4,
   "metadata": {},
   "outputs": [
    {
     "name": "stdout",
     "output_type": "stream",
     "text": [
      "[('queen', 0.7515910863876343), ('monarch', 0.6741327047348022), ('princess', 0.6713887453079224)]\n"
     ]
    }
   ],
   "source": [
    "result = en_model.most_similar(positive=['king', 'woman'], negative=['man'], topn=3)\n",
    "print(result)"
   ]
  },
  {
   "cell_type": "code",
   "execution_count": 5,
   "metadata": {},
   "outputs": [
    {
     "name": "stdout",
     "output_type": "stream",
     "text": [
      "[('frankfurt', 0.6398213505744934), ('stuttgart', 0.620233416557312), ('munich', 0.5834944248199463), ('hamburg', 0.5783621668815613), ('berlin', 0.5723405480384827)]\n"
     ]
    }
   ],
   "source": [
    "result = en_model.most_similar(positive=['germany', 'stockholm'], negative=['sweden'], topn=5)\n",
    "print(result)"
   ]
  },
  {
   "cell_type": "code",
   "execution_count": 6,
   "metadata": {},
   "outputs": [
    {
     "name": "stdout",
     "output_type": "stream",
     "text": [
      "[('paris', 0.5638546943664551), ('france.', 0.5545555949211121), ('england', 0.5387205481529236)]\n"
     ]
    }
   ],
   "source": [
    "result = en_model.most_similar(positive=['rome', 'france'], negative=['italy'], topn=3)\n",
    "print(result)"
   ]
  },
  {
   "cell_type": "code",
   "execution_count": 7,
   "metadata": {},
   "outputs": [
    {
     "name": "stdout",
     "output_type": "stream",
     "text": [
      "[('ronaldo', 0.6682206988334656), ('neymar', 0.6616860628128052), ('cr7', 0.6565796732902527)]\n"
     ]
    }
   ],
   "source": [
    "result = en_model.most_similar(positive=['messi', 'juventus'], negative=['barcelona'], topn=3)\n",
    "print(result)"
   ]
  },
  {
   "cell_type": "code",
   "execution_count": 8,
   "metadata": {},
   "outputs": [
    {
     "name": "stdout",
     "output_type": "stream",
     "text": [
      "[('boulevards', 0.7690603733062744), ('Boulevard', 0.7522963881492615), ('thoroughfare', 0.7291838526725769), ('promenade', 0.683501660823822), ('street', 0.6814018487930298), ('Champs-Élysées', 0.6423941850662231), ('Boulevards', 0.6415174603462219), ('streets', 0.638748288154602), ('thoroughfares', 0.6352694034576416), ('esplanade', 0.6269446611404419)]\n"
     ]
    }
   ],
   "source": [
    "result = en_model.most_similar(positive=['boulevard'], topn=10)\n",
    "print(result)"
   ]
  },
  {
   "cell_type": "code",
   "execution_count": 9,
   "metadata": {
    "scrolled": true
   },
   "outputs": [
    {
     "name": "stdout",
     "output_type": "stream",
     "text": [
      "[('ecb', 0.6932785511016846), ('brics', 0.6686371564865112), ('WorldBank', 0.6559985876083374), ('Worldbank', 0.6515493392944336), ('gazprom', 0.6459022760391235), ('yats', 0.6439819931983948), ('rothschild', 0.6324617862701416), ('greenspan', 0.6253156661987305), ('hsbc', 0.6233227849006653), ('g20', 0.6205020546913147)]\n"
     ]
    }
   ],
   "source": [
    "result = en_model.most_similar(positive=['imf'], topn=10)\n",
    "print(result)"
   ]
  },
  {
   "cell_type": "code",
   "execution_count": 11,
   "metadata": {},
   "outputs": [
    {
     "name": "stdout",
     "output_type": "stream",
     "text": [
      "[('trotsky', 0.7043848037719727), ('engels', 0.6948547959327698), ('marxism', 0.6930925846099854), ('lenin', 0.6745532751083374), ('rothbard', 0.6671016216278076), ('friedman', 0.6591575145721436), ('Marx', 0.6491486430168152), ('hegel', 0.6469389200210571), ('nietzsche', 0.636730432510376), ('freud', 0.6342135667800903)]\n"
     ]
    }
   ],
   "source": [
    "result = en_model.most_similar(positive=['marx'], topn=10)\n",
    "print(result)"
   ]
  },
  {
   "cell_type": "code",
   "execution_count": 16,
   "metadata": {},
   "outputs": [
    {
     "name": "stdout",
     "output_type": "stream",
     "text": [
      "[('cookies', 0.8626418113708496), ('Cookies', 0.7114523649215698), ('chocolate-chip', 0.7025302648544312), ('Cookie', 0.6565805077552795), ('biscuit', 0.5994547009468079), ('biscuits', 0.5849974751472473), ('cupcake', 0.5847872495651245), ('Oreo', 0.5798557996749878), ('candy', 0.5744260549545288), ('oreo', 0.572555661201477)]\n"
     ]
    }
   ],
   "source": [
    "result = en_model.most_similar(positive=['cookie'], topn=10)\n",
    "print(result)"
   ]
  },
  {
   "cell_type": "code",
   "execution_count": 12,
   "metadata": {},
   "outputs": [
    {
     "name": "stdout",
     "output_type": "stream",
     "text": [
      "[('browsers', 0.831689715385437), ('brower', 0.7667702436447144), ('Firefox', 0.7509911060333252), ('web-browser', 0.7446454167366028), ('Browser', 0.7440783381462097), ('browswer', 0.7153022289276123), ('broswer', 0.6964574456214905), ('firefox', 0.6773278713226318), ('Mozilla', 0.675921618938446), ('Netscape', 0.6715632677078247)]\n"
     ]
    }
   ],
   "source": [
    "result = en_model.most_similar(positive=['browser'], topn=10)\n",
    "print(result)"
   ]
  }
 ],
 "metadata": {
  "kernelspec": {
   "display_name": "Python 3",
   "language": "python",
   "name": "python3"
  },
  "language_info": {
   "codemirror_mode": {
    "name": "ipython",
    "version": 3
   },
   "file_extension": ".py",
   "mimetype": "text/x-python",
   "name": "python",
   "nbconvert_exporter": "python",
   "pygments_lexer": "ipython3",
   "version": "3.6.7"
  }
 },
 "nbformat": 4,
 "nbformat_minor": 2
}
